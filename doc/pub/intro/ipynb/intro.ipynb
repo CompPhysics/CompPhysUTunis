{
 "cells": [
  {
   "cell_type": "markdown",
   "metadata": {},
   "source": [
    "<!-- dom:TITLE: Computational Physics and Quantum Mechanical Systems -->\n",
    "# Computational Physics and Quantum Mechanical Systems\n",
    "<!-- dom:AUTHOR: Morten Hjorth-Jensen at Department of Physics, University of Oslo, Norway & Department of Physics and Astronomy and National Superconducting Cyclotron Laboratory, Michigan State University, USA -->\n",
    "<!-- Author: --> **Morten Hjorth-Jensen**, Department of Physics, University of Oslo, Norway and Department of Physics and Astronomy and National Superconducting Cyclotron Laboratory, Michigan State University, USA\n",
    "\n",
    "Date: **May 16-20, 2016**\n",
    "\n",
    "## Topics covered in this course\n",
    "This course aims at giving you an overview of important numerical methods for solving quantum mechanical problems. In particular, in this course we will focus on\n",
    "  * Quantum Monte Carlo methods applied to few-electron systems like [quantum dots](https://journals.aps.org/rmp/abstract/10.1103/RevModPhys.74.1283), electrons confined to move in two or three dimensions. The system we will study will contain up to 20 interacting electrons in an oscillator trap. \n",
    "\n",
    "  * Linear algebra and eigenvalue problems with applications to the same physical systems, simple two-electron systems and Hartree-Fock theory.\n",
    "\n",
    "  * Object orientation, code optimization and High-performance computing aspects \n",
    "\n",
    "The main programming language will be c++ (and Fortran), with Python examples in the slides.\n",
    "\n",
    "\n",
    "\n",
    "\n",
    "\n",
    "\n",
    "## Overarching aims of this course, how to develop and finalize a numerical project\n",
    "While developing the mathematical tools and a numerical project we aim at giving you an\n",
    "insight in how to:\n",
    "  * Develop a critical approach to all steps in a project, which methods are most relevant, which natural laws and physical processes are important. Sort out initial conditions and boundary conditions etc.\n",
    "\n",
    "  * To teach you structured scientific computing and learn to structure a project using for example object orientation.\n",
    "\n",
    "  * To give you a critical understanding of central mathematical algorithms and methods from numerical analysis. In particular their limits and stability criteria.\n",
    "\n",
    "  * To show you how to use version control software to keep track of different versions of your normal project, how to verify and validate your codes and how to make your science reproducible. We will demonstrate this using [git](https://git-scm.com/) and [github](https://github.com)\n",
    "\n",
    "\n",
    "\n",
    "\n",
    "\n",
    "\n",
    "## Learning outcomes\n",
    "We hope we can give you some useful hints and guidance on\n",
    " * how to develop a thorough understanding of how computing is used to solve scientific problems\n",
    "\n",
    " * getting to know some central  algorithms used in science\n",
    "\n",
    " * developing knowledge of high-performance computing elements: memory usage, vectorization and parallel algorithms\n",
    "\n",
    " * understanding approximation errors and what can go wrong with algorithms\n",
    "\n",
    " * getting experience with programming in a compiled language (Fortran, C, C++)\n",
    "\n",
    " * getting experience with test frameworks and procedures\n",
    "\n",
    " * being able to  critically evaluate results and errors\n",
    "\n",
    " * understanding how to increase the efficiency of numerical algorithms and pertinent software\n",
    "\n",
    " * understanding tools to make science reproducible and to develop a sound ethical approach to scientific problems\n",
    "\n",
    "\n",
    "\n",
    "\n",
    "\n",
    "\n",
    "\n",
    "## Why is computing comptence important?\n",
    "**Definition of computing.**\n",
    "\n",
    "With computing I will mean solving scientific problems using computers. It covers numerical, analytical as well as symbolic computing. Computing is also about developing an understanding of the scientific process by enhancing algorithmic thinking when solving problems.\n",
    "\n",
    "\n",
    "\n",
    "\n",
    "## Computing competence, what is it?\n",
    "Computing competence has always been a central part of the science and engineering education. Traditionally, such competence meant mastering mathematical methods to solve science problems - by pen and paper. \n",
    "\n",
    "Today you are expected to use all available tools to solve scientific problems; computers primarily, but also pen and paper. \n",
    "\n",
    "I will use the term/word algorithms in the broad meaning:  methods (for example mathematical) to solve science problems, with and without computers.\n",
    "\n",
    "\n",
    "\n",
    "\n",
    "\n",
    "## What is computing competence about?\n",
    "Computing competence is about\n",
    "\n",
    "1. derivation, verification, and implementation of algorithms\n",
    "\n",
    "2. understanding what can go wrong with algorithms\n",
    "\n",
    "3. overview of important, known algorithms\n",
    "\n",
    "4. understanding how algorithms are used to solve mathematical problems\n",
    "\n",
    "5. reproducible science and ethics\n",
    "\n",
    "6. algorithmic thinking for gaining deeper insights about scientific problems\n",
    "\n",
    "\n",
    "\n",
    "\n",
    "## Continuous verse discrete\n",
    "Algorithms involving pen and paper are traditionally aimed at what we often refer to as continuous models. \n",
    "\n",
    "Application of computers calls for approximate discrete models. \n",
    "\n",
    "Much of the development of methods for continuous models are now being replaced by methods for discrete models in science and industry, simply because much larger problem classes can be addressed with discrete models, often also by simpler and more generic methodologies. However, verification of algorithms and understanding their limitations requires much of the classical knowledge about continuous models.\n",
    "\n",
    "\n",
    "\n",
    "\n",
    "\n",
    "## Shift from classical mathematics to modern computing?\n",
    "1. The impact of the computer on mathematics is tremendous: science and industry now rely on solving mathematical problems through computing.\n",
    "\n",
    "2. Computing increases the relevance in education by solving more realistic problems earlier.\n",
    "\n",
    "3. Computing through programming is excellent training of creativity.\n",
    "\n",
    "4. Computing enhances the understanding of abstractions and generalization.\n",
    "\n",
    "5. Computing decreases the need for special tricks and tedious algebra, and shifts the focus to problem definition, visualization, and \"what if\" discussions.\n",
    "\n",
    "The result is a deeper understanding of mathematical modeling. Not only is computing via programming a very powerful tool, it also a great pedagogical aid.\n",
    "For the mathematical training, there is one major new component among the arguments above: understanding abstractions and generalization. While many of the classical methods developed for continuous models are specialized for a particular problem or a narrow class of problems, computing-based algorithms are often developed for problems in a generic form and hence applicable to a large problem class.\n",
    "\n",
    "\n",
    "\n",
    "\n",
    "\n",
    "## Key principle in scientific modeling\n",
    "The power of the scientific method lies in identifying a given problem as a special case of an abstract class of problems, identifying general solution methods for this class of problems, and applying a general method to the specific problem (applying means, in the case of computing, calculations by pen and paper, symbolic computing, or numerical computing by ready-made and/or self-written software). This generic view on problems and methods is particularly important for understanding how to apply available, generic software to solve a particular problem.\n",
    "\n",
    "\n",
    "\n",
    "\n",
    "## Computing competence is central to solving scientific problems\n",
    "**Definition of computing.**\n",
    "\n",
    "Computing competence represents a central element in scientific problem solving, from basic education and research to essentially almost all advanced problems in modern societies. Computing competence is simply central to further progress. It enlarges the body of tools available to students and scientists beyond classical tools and allows for a more generic handling of problems. Focusing on algorithmic aspects results in deeper insights about scientific problems.\n",
    "\n",
    "Today's project in science and industry tend to involve larger teams. Tools for reliable collaboration must therefore be mastered (e.g., version control systems, automated computer experiments for reproducibility, software and method documentation).\n",
    "\n",
    "\n",
    "\n",
    "\n",
    "## Modeling and computations\n",
    "In this course we will try to focus on how to \n",
    "\n",
    "* Introduce Research based teaching  from day one\n",
    "\n",
    "* Trigger further insights in math and other disciplines \n",
    "\n",
    "* Validation and verification of scientific results, with the possibility to emphasize ethical aspects as well. Version control is central.\n",
    "\n",
    "* Introduce good project handling  practices from day one.\n",
    "\n",
    "\n",
    "\n",
    "\n",
    "\n",
    "\n",
    "## Symbolic calculations and numerical calculations in one code\n",
    "The following simple example here illustrates many of the previous points. \n",
    "Python offers an  extremely versatile programming  environment, allowing for\n",
    "the inclusion of analytical studies in a numerical program. Here we show an\n",
    "example code with the **trapezoidal rule** using **SymPy** to evaluate an integral and compute the absolute error\n",
    "with respect to the numerically evaluated one of the integral\n",
    "$4\\int_0^1 dx/(1+x^2) = \\pi$:"
   ]
  },
  {
   "cell_type": "code",
   "execution_count": 1,
   "metadata": {
    "collapsed": false
   },
   "outputs": [],
   "source": [
    "from math import *\n",
    "from sympy import *\n",
    "def Trapez(a,b,f,n):\n",
    "   h = (b-a)/float(n)\n",
    "   s = 0\n",
    "   x = a\n",
    "   for i in range(1,n,1):\n",
    "       x = x+h\n",
    "       s = s+ f(x)\n",
    "   s = 0.5*(f(a)+f(b)) +s\n",
    "   return h*s\n",
    "\n",
    "#  function to compute pi\n",
    "def function(x):\n",
    "    return 4.0/(1+x*x)\n",
    "\n",
    "a = 0.0;  b = 1.0; n = 100\n",
    "result = Trapez(a,b,function,n)\n",
    "print \"Trapezoidal rule=\", result\n",
    "# define x as a symbol to be used by sympy\n",
    "x = Symbol('x')\n",
    "exact = integrate(function(x), (x, 0.0, 1.0))\n",
    "print \"Sympy integration=\", exact\n",
    "# Find relative error\n",
    "print \"Relative error\", abs((exact-result)/exact)"
   ]
  },
  {
   "cell_type": "markdown",
   "metadata": {},
   "source": [
    "## Error analysis\n",
    "The following extended version of the trapezoidal rule allows you  to plot the relative error by comparing with the exact result. By increasing to $10^8$ points one arrives at a region where numerical errors start to accumulate."
   ]
  },
  {
   "cell_type": "code",
   "execution_count": 2,
   "metadata": {
    "collapsed": false
   },
   "outputs": [],
   "source": [
    "%matplotlib inline\n",
    "\n",
    "from math import log10\n",
    "import numpy as np\n",
    "from sympy import Symbol, integrate\n",
    "import matplotlib.pyplot as plt\n",
    "# function for the trapezoidal rule\n",
    "def Trapez(a,b,f,n):\n",
    "   h = (b-a)/float(n)\n",
    "   s = 0\n",
    "   x = a\n",
    "   for i in range(1,n,1):\n",
    "       x = x+h\n",
    "       s = s+ f(x)\n",
    "   s = 0.5*(f(a)+f(b)) +s\n",
    "   return h*s\n",
    "#  function to compute pi\n",
    "def function(x):\n",
    "    return 4.0/(1+x*x)\n",
    "# define integration limits\n",
    "a = 0.0;  b = 1.0;\n",
    "# find result from sympy\n",
    "# define x as a symbol to be used by sympy\n",
    "x = Symbol('x')\n",
    "exact = integrate(function(x), (x, a, b))\n",
    "# set up the arrays for plotting the relative error\n",
    "n = np.zeros(9); y = np.zeros(9);\n",
    "# find the relative error as function of integration points\n",
    "for i in range(1, 8, 1):\n",
    "    npts = 10**i\n",
    "    result = Trapez(a,b,function,npts)\n",
    "    RelativeError = abs((exact-result)/exact)\n",
    "    n[i] = log10(npts); y[i] = log10(RelativeError);\n",
    "plt.plot(n,y, 'ro')\n",
    "plt.xlabel('n')\n",
    "plt.ylabel('Relative error')\n",
    "plt.show()"
   ]
  },
  {
   "cell_type": "markdown",
   "metadata": {},
   "source": [
    "## Integrating numerical mathematics with calculus\n",
    "The last example shows the potential of combining numerical algorithms with symbolic calculations, allowing you thereby  to\n",
    "* Validate and verify  your  algorithms. \n",
    "\n",
    "* Include concepts like unit testing. It gives you the possibility to test and validate several or all parts of the code.\n",
    "\n",
    "* Validation and verification are then included *naturally* and you can develop a better attitude to what is meant with an ethically sound scientific approach.\n",
    "\n",
    "* The above example allows you to test the mathematical error of the algorithm for the trapezoidal rule by changing the number of integration points. You get to think error analysis from day one.\n",
    "\n",
    "\n",
    "\n",
    "\n",
    "\n",
    "## Additional benefits: A structured approach to solving problems\n",
    "In this process we easily bake in\n",
    "  1. How to structure a code in terms of functions\n",
    "\n",
    "  2. How to make a module\n",
    "\n",
    "  3. How to read input data flexibly from the command line\n",
    "\n",
    "  4. How to create graphical/web user interfaces\n",
    "\n",
    "  5. How to write unit tests (test functions or doctests)\n",
    "\n",
    "  6. How to refactor code in terms of classes (instead of functions only)\n",
    "\n",
    "  7. How to conduct and automate large-scale numerical experiments\n",
    "\n",
    "  8. How to write scientific reports in various formats (LaTeX, HTML)\n",
    "\n",
    "\n",
    "\n",
    "\n",
    "## Additional benefits: A structure approach to solving problems\n",
    "The conventions and techniques outlined here will save you a lot of time when you incrementally extend software over time from simpler to more complicated problems. In particular, you will benefit from many good habits:\n",
    "1. New code is added in a modular fashion to a library (modules)\n",
    "\n",
    "2. Programs are run through convenient user interfaces\n",
    "\n",
    "3. It takes one quick command to let all your code undergo heavy testing \n",
    "\n",
    "4. Tedious manual work with running programs is automated,\n",
    "\n",
    "5. Your scientific investigations are reproducible, scientific reports with top quality typesetting are produced both for paper and electronic devices.\n",
    "\n",
    "\n",
    "\n",
    "\n",
    "\n",
    "## Literature\n",
    "* [Lecture notes on Computational Physics  by Morten Hjorth-Jensen, C++, Fortran, and Python](https://github.com/CompPhysics/ComputationalPhysicsMSU/blob/master/doc/Lectures/lectures2015.pdf)\n",
    "\n",
    "* [A Primer on Scientific Programming with Python by Hans Petter Langtangen](https://github.com/CompPhysics/ComputationalPhysicsMSU/blob/master/doc/Lectures/HPLpython.pdf)\n",
    "\n",
    "\n",
    "\n",
    "## Installing C++ and Fortran\n",
    "If you wish to use C++ or Fortran, we recommend normally \n",
    "* C++: Use an Integrated Development Environment (IDE) like [Qt](https://www.qt.io/ide/) which works on all platforms\n",
    "\n",
    "* C++: Use the IDE [Visual C++](https://msdn.microsoft.com/en-us/library/60k1461a.aspx)  for Windows as operating system or [Dev C++](https://sourceforge.net/projects/orwelldevcpp/).\n",
    "\n",
    "* For Mac (OSX) and linux users the [GNU gcc and gfortran](https://gcc.gnu.org/)  family of compilers are  widely used.\n",
    "\n",
    "* [The Intel C++ and Fortran compilers](https://software.intel.com/en-us/blogs/2013/01/03/free-intel-c-compilers-for-students-and-related-parallel-programming-tools) are excellent. Free versions exist for students.\n",
    "\n",
    "\n",
    "\n",
    "\n",
    "## Installing and running python\n",
    "* For Linux and OSX users python is included by default. Check which version by typing  in a terminal window"
   ]
  },
  {
   "cell_type": "markdown",
   "metadata": {},
   "source": [
    "        python -v \n"
   ]
  },
  {
   "cell_type": "markdown",
   "metadata": {},
   "source": [
    "Additional packages may have to be installed. For OSX users I highly recommend installing python and additional packages using [brew](http://brew.sh/). This makes it extremely simple to add packages and install additional software. With brew there is no point for OSX users to use virtual machines. \n",
    "\n",
    "* You can also install platform independent IDE versions like the [Enthought Python Distribution](https://www.enthought.com/products/epd/) or [Anaconda](https://www.continuum.io/downloads).\n",
    "\n",
    "* For Windows users, you may consider a virtual machine like [VMware Ubuntu](https://my.vmware.com/group/vmware/details?productId=154&downloadGroup=WKST-716-WIN) \n",
    "\n",
    "* You can also go directly to the [python website](https://www.python.org/downloads/) and download the Windows version. \n",
    "\n",
    "If you want to run a python program in terminal mode, simply write"
   ]
  },
  {
   "cell_type": "markdown",
   "metadata": {},
   "source": [
    "        python nameofprog.py \n"
   ]
  },
  {
   "cell_type": "markdown",
   "metadata": {},
   "source": [
    "## Optimization and profiling\n",
    "\n",
    "If you use C++ or Fortran without an IDE, you would compile as"
   ]
  },
  {
   "cell_type": "markdown",
   "metadata": {},
   "source": [
    "        c++  -c  mycode.cpp\n",
    "        c++  -o  mycode.exe  mycode.o\n"
   ]
  },
  {
   "cell_type": "markdown",
   "metadata": {},
   "source": [
    "For Fortran replace with for example **gfortran** or **ifort**.\n",
    "This is what we call a flat compiler option and should be used when we develop the code.\n",
    "It produces normally a very large and slow code when translated into machine instructions.\n",
    "We use this option for debugging and for establishing the correct program output because\n",
    "every operation is done precisely as the user specified it.\n",
    "\n",
    "It is instructive to look up the compiler manual for further instructions by writing for example"
   ]
  },
  {
   "cell_type": "markdown",
   "metadata": {},
   "source": [
    "        man c++\n"
   ]
  },
  {
   "cell_type": "markdown",
   "metadata": {},
   "source": [
    "## More on optimization\n",
    "We have additional compiler options for optimization. These may include procedure inlining where \n",
    "performance may be improved, moving constants inside loops outside the loop, \n",
    "identify potential parallelism, include automatic vectorization or replace a division with a reciprocal\n",
    "and a multiplication if this speeds up the code."
   ]
  },
  {
   "cell_type": "markdown",
   "metadata": {},
   "source": [
    "        c++  -O3 -c  mycode.cpp\n",
    "        c++  -O3 -o  mycode.exe  mycode.o\n"
   ]
  },
  {
   "cell_type": "markdown",
   "metadata": {},
   "source": [
    "This (other options are -O2 or -Ofast) is the recommended option.\n",
    "\n",
    "\n",
    "## Optimization and profiling\n",
    "It is also useful to profile your program under the development stage.\n",
    "You would then compile with"
   ]
  },
  {
   "cell_type": "markdown",
   "metadata": {},
   "source": [
    "        c++  -pg -O3 -c  mycode.cpp\n",
    "        c++  -pg -O3 -o  mycode.exe  mycode.o\n"
   ]
  },
  {
   "cell_type": "markdown",
   "metadata": {},
   "source": [
    "After you have run the code you can obtain the profiling information via"
   ]
  },
  {
   "cell_type": "markdown",
   "metadata": {},
   "source": [
    "        gprof mycode.exe >  ProfileOutput\n"
   ]
  },
  {
   "cell_type": "markdown",
   "metadata": {},
   "source": [
    "When you have profiled properly your code, you must take out this option as it \n",
    "slows down performance.\n",
    "For memory tests use [valgrind](http://www.valgrind.org). An excellent environment for all these aspects, and much  more, is  [Qt creator](https://www.qt.io/ide/).\n",
    "\n",
    "\n",
    "\n",
    "## Optimization and debugging\n",
    "Adding debugging options is a very useful alternative under the development stage of a program.\n",
    "You would then compile with"
   ]
  },
  {
   "cell_type": "markdown",
   "metadata": {},
   "source": [
    "        c++  -g -O0 -c  mycode.cpp\n",
    "        c++  -g -O0 -o  mycode.exe  mycode.o\n"
   ]
  },
  {
   "cell_type": "markdown",
   "metadata": {},
   "source": [
    "This option generates debugging information allowing you to trace for example if an array is properly allocated. Some compilers work best with the no optimization option **-O0**.\n",
    "\n",
    "\n",
    "**Other optimization flags.**\n",
    "\n",
    "Depending on the compiler, one can add flags which generate code that catches integer overflow errors. \n",
    "The flag **-ftrapv** does this for the CLANG compiler on OS X operating systems.\n",
    "\n",
    "\n",
    "\n",
    "\n",
    "## How do I run MPI on a PC/Laptop? MPI\n",
    "To install MPI is rather easy on hardware running unix/linux as operating systems, follow simply the instructions from the [OpenMPI website](https://www.open-mpi.org/). See also subsequent slides.\n",
    "When you have made sure you have installed MPI on your PC/laptop, \n",
    "* Compile with mpicxx/mpic++ or mpif90"
   ]
  },
  {
   "cell_type": "markdown",
   "metadata": {},
   "source": [
    "          # Compile and link\n",
    "          mpic++ -O3 -o nameofprog.x nameofprog.cpp\n",
    "          #  run code with for example 8 processes using mpirun/mpiexec\n",
    "          mpiexec -n 8 ./nameofprog.x\n"
   ]
  },
  {
   "cell_type": "markdown",
   "metadata": {},
   "source": [
    "## Can I do it on my own PC/laptop? OpenMP installation\n",
    "If you wish to install MPI and OpenMP \n",
    "on your laptop/PC, we recommend the following:\n",
    "* For OpenMP, the compile option **-fopenmp** is included automatically in recent versions of the C++ compiler and Fortran compilers. For users of different Linux distributions, siply use the available C++ or Fortran compilers and add the above compiler instructions, see also code examples below. \n",
    "\n",
    "* For OS X users however, use for example"
   ]
  },
  {
   "cell_type": "markdown",
   "metadata": {},
   "source": [
    "          brew install clang-omp\n"
   ]
  },
  {
   "cell_type": "markdown",
   "metadata": {},
   "source": [
    "## Installing MPI\n",
    "For linux/ubuntu users, you need to install two packages (alternatively use the synaptic package manager)"
   ]
  },
  {
   "cell_type": "markdown",
   "metadata": {},
   "source": [
    "          sudo apt-get install libopenmpi-dev\n",
    "          sudo apt-get install openmpi-bin\n"
   ]
  },
  {
   "cell_type": "markdown",
   "metadata": {},
   "source": [
    "For OS X users, install brew (after having installed xcode and gcc, needed for the \n",
    "gfortran compiler of openmpi) and then install with brew"
   ]
  },
  {
   "cell_type": "markdown",
   "metadata": {},
   "source": [
    "           brew install openmpi\n"
   ]
  },
  {
   "cell_type": "markdown",
   "metadata": {},
   "source": [
    "When running an executable (code.x), run as"
   ]
  },
  {
   "cell_type": "markdown",
   "metadata": {},
   "source": [
    "          mpirun -n 10 ./code.x\n"
   ]
  },
  {
   "cell_type": "markdown",
   "metadata": {},
   "source": [
    "where we indicate that we want  the number of processes to be 10.\n",
    "\n",
    "\n",
    "\n",
    "\n",
    "## Installing MPI and using Qt\n",
    "With openmpi installed, when using Qt, add to your .pro file the instructions [here](http://dragly.org/2012/03/14/developing-mpi-applications-in-qt-creator/)\n",
    "\n",
    "You may need to tell Qt where openmpi is stored."
   ]
  }
 ],
 "metadata": {},
 "nbformat": 4,
 "nbformat_minor": 0
}
